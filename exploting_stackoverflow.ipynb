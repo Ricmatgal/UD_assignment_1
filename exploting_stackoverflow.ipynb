{
 "cells": [
  {
   "cell_type": "markdown",
   "id": "d1cc55a2",
   "metadata": {},
   "source": [
    "## Exploration of multiple stackoverflow yearly dataset\n",
    "\n",
    "#### We want to answer the following questions:\n",
    "\n"
   ]
  },
  {
   "cell_type": "code",
   "execution_count": 1,
   "id": "16e56e00",
   "metadata": {},
   "outputs": [],
   "source": [
    "# import all the data we need\n",
    "\n",
    "import numpy\n",
    "import scipy"
   ]
  },
  {
   "cell_type": "code",
   "execution_count": null,
   "id": "50ea31d9",
   "metadata": {},
   "outputs": [],
   "source": []
  }
 ],
 "metadata": {
  "kernelspec": {
   "display_name": "Python 3",
   "language": "python",
   "name": "python3"
  },
  "language_info": {
   "codemirror_mode": {
    "name": "ipython",
    "version": 3
   },
   "file_extension": ".py",
   "mimetype": "text/x-python",
   "name": "python",
   "nbconvert_exporter": "python",
   "pygments_lexer": "ipython3",
   "version": "3.9.6"
  }
 },
 "nbformat": 4,
 "nbformat_minor": 5
}
